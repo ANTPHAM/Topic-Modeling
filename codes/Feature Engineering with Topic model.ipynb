{
 "cells": [
  {
   "cell_type": "code",
   "execution_count": 34,
   "metadata": {},
   "outputs": [],
   "source": [
    "import numpy as np\n",
    "import pandas as pd\n",
    "from gensim import models,corpora\n",
    "from gensim import similarities\n",
    "import warnings"
   ]
  },
  {
   "cell_type": "code",
   "execution_count": 6,
   "metadata": {},
   "outputs": [],
   "source": [
    "pd.set_option('max_colwidth',400)\n",
    "warnings.filterwarnings('ignore')"
   ]
  },
  {
   "cell_type": "markdown",
   "metadata": {},
   "source": [
    "# Loading the pretrained LDA model"
   ]
  },
  {
   "cell_type": "code",
   "execution_count": 35,
   "metadata": {},
   "outputs": [],
   "source": [
    "Lda = models.LdaMulticore\n",
    "lda_final =Lda.load('lda_final')\n",
    "dictionary = corpora.Dictionary.load('dictionary')\n",
    "doc_term_matrix = corpora.MmCorpus('doc_term_matrix.mm')"
   ]
  },
  {
   "cell_type": "markdown",
   "metadata": {},
   "source": [
    "# Feature Engineering"
   ]
  },
  {
   "cell_type": "markdown",
   "metadata": {},
   "source": [
    "## Document-topic matrix : Used for automated Document tagging"
   ]
  },
  {
   "cell_type": "code",
   "execution_count": 43,
   "metadata": {},
   "outputs": [],
   "source": [
    "doc2topic =lda_final.get_document_topics(doc_term_matrix,minimum_probability=0)\n",
    "doc2topic = pd.DataFrame(list(doc2topic))\n",
    "num_topics = lda_final.num_topics\n",
    "doc2topic.columns = ['Topic'+str(i+1) for i in range(num_topics)]\n",
    "for i in range(len(doc2topic.columns)):\n",
    "    doc2topic.iloc[:,i]=doc2topic.iloc[:,i].apply(lambda x: x[1])\n",
    "doc2topic['Automated_topic_id'] =doc2topic.apply(lambda x: np.argmax(x),axis=1)\n",
    "doc2topic.head()"
   ]
  },
  {
   "cell_type": "code",
   "execution_count": 48,
   "metadata": {},
   "outputs": [
    {
     "data": {
      "text/html": [
       "<div>\n",
       "<style scoped>\n",
       "    .dataframe tbody tr th:only-of-type {\n",
       "        vertical-align: middle;\n",
       "    }\n",
       "\n",
       "    .dataframe tbody tr th {\n",
       "        vertical-align: top;\n",
       "    }\n",
       "\n",
       "    .dataframe thead th {\n",
       "        text-align: right;\n",
       "    }\n",
       "</style>\n",
       "<table border=\"1\" class=\"dataframe\">\n",
       "  <thead>\n",
       "    <tr style=\"text-align: right;\">\n",
       "      <th></th>\n",
       "      <th>id</th>\n",
       "      <th>Skills</th>\n",
       "      <th>Job title</th>\n",
       "      <th>Topic1</th>\n",
       "      <th>Topic2</th>\n",
       "      <th>Topic3</th>\n",
       "      <th>Topic4</th>\n",
       "      <th>Topic5</th>\n",
       "      <th>Topic6</th>\n",
       "      <th>Topic7</th>\n",
       "      <th>Topic8</th>\n",
       "      <th>Topic9</th>\n",
       "      <th>Topic10</th>\n",
       "      <th>Topic11</th>\n",
       "      <th>Topic12</th>\n",
       "      <th>Automated_topic_id</th>\n",
       "    </tr>\n",
       "  </thead>\n",
       "  <tbody>\n",
       "    <tr>\n",
       "      <th>0</th>\n",
       "      <td>1.0</td>\n",
       "      <td>['TECHNICAL SKILLS\\xa0', &lt;br/&gt;, '\\xa0', &lt;br/&gt;, '•    R                                          •   Tableau                                   •   Machine Learning\\xa0', &lt;br/&gt;, '•    D3.js                                      •   SQL, PostgreSQL, pgadmin 4                •   JavaScript\\xa0', &lt;br/&gt;, '•    Python                                     •   HTML/CSS                                  • ...</td>\n",
       "      <td>Data Scientist Intern</td>\n",
       "      <td>0.006410</td>\n",
       "      <td>0.006410</td>\n",
       "      <td>0.006410</td>\n",
       "      <td>0.006410</td>\n",
       "      <td>0.006410</td>\n",
       "      <td>0.006410</td>\n",
       "      <td>0.736321</td>\n",
       "      <td>0.006410</td>\n",
       "      <td>0.006410</td>\n",
       "      <td>0.199575</td>\n",
       "      <td>0.006410</td>\n",
       "      <td>0.006411</td>\n",
       "      <td>Topic7</td>\n",
       "    </tr>\n",
       "    <tr>\n",
       "      <th>1</th>\n",
       "      <td>2.0</td>\n",
       "      <td>['TECHNICAL SKILLS:\\xa0', &lt;br/&gt;, 'Languages    Java, C, C++, Python, R, Scala, SQL\\xa0', &lt;br/&gt;, 'Web Services    SOAP, REST\\xa0', &lt;br/&gt;, 'Web Technologies    HTML, CSS, JavaScript, PHP\\xa0', &lt;br/&gt;, 'Database    DB2, MySQL\\xa0', &lt;br/&gt;, 'Software    Android Studio, Eclipse, IntelliJ IDEA, NetBeans, GIT']</td>\n",
       "      <td>Junior Data Scientist</td>\n",
       "      <td>0.003968</td>\n",
       "      <td>0.003968</td>\n",
       "      <td>0.003968</td>\n",
       "      <td>0.003968</td>\n",
       "      <td>0.003968</td>\n",
       "      <td>0.003968</td>\n",
       "      <td>0.003968</td>\n",
       "      <td>0.003968</td>\n",
       "      <td>0.003969</td>\n",
       "      <td>0.956348</td>\n",
       "      <td>0.003968</td>\n",
       "      <td>0.003968</td>\n",
       "      <td>Topic10</td>\n",
       "    </tr>\n",
       "    <tr>\n",
       "      <th>2</th>\n",
       "      <td>3.0</td>\n",
       "      <td>['TECHNICAL SKILLS\\xa0', &lt;br/&gt;, '•   Proficient: Java, Haskell, Python, R, SQL, C, C++, Matlab, Excel, VBA\\xa0', &lt;br/&gt;, '•   Familiar with: JMP, Tableau, ArcGIS, Weka, TensorFlow']</td>\n",
       "      <td>Data Scientist Intern</td>\n",
       "      <td>0.005208</td>\n",
       "      <td>0.005208</td>\n",
       "      <td>0.005208</td>\n",
       "      <td>0.005208</td>\n",
       "      <td>0.005208</td>\n",
       "      <td>0.005208</td>\n",
       "      <td>0.005209</td>\n",
       "      <td>0.005208</td>\n",
       "      <td>0.005208</td>\n",
       "      <td>0.005209</td>\n",
       "      <td>0.005208</td>\n",
       "      <td>0.942708</td>\n",
       "      <td>Topic12</td>\n",
       "    </tr>\n",
       "    <tr>\n",
       "      <th>3</th>\n",
       "      <td>4.0</td>\n",
       "      <td>['TECHNICAL SKILLS\\xa0', &lt;br/&gt;, 'Relevant Coursework: Artificial Intelligence, Machine Learning, Data Mining, Statistics, Multivariate and\\xa0', &lt;br/&gt;, 'Exploratory Data Analysis.\\xa0', &lt;br/&gt;, 'Big Data Technologies: Hadoop, Apache Hive, Apache Pig, Apache Spark.\\xa0', &lt;br/&gt;, 'Visualization Tools: Tableau, ggplot2, Sci2.\\xa0', &lt;br/&gt;, 'Programming Languages: Python, Java, R, SQL, C.\\xa0', &lt;br/&gt;...</td>\n",
       "      <td>Data Scientist</td>\n",
       "      <td>0.002604</td>\n",
       "      <td>0.042107</td>\n",
       "      <td>0.002604</td>\n",
       "      <td>0.002604</td>\n",
       "      <td>0.002604</td>\n",
       "      <td>0.002604</td>\n",
       "      <td>0.002604</td>\n",
       "      <td>0.002604</td>\n",
       "      <td>0.201023</td>\n",
       "      <td>0.245000</td>\n",
       "      <td>0.002604</td>\n",
       "      <td>0.491036</td>\n",
       "      <td>Topic12</td>\n",
       "    </tr>\n",
       "    <tr>\n",
       "      <th>4</th>\n",
       "      <td>5.0</td>\n",
       "      <td>['SKILLS\\xa0', &lt;br/&gt;, '\\xa0', &lt;br/&gt;, 'SOFTWARE:\\xa0', &lt;br/&gt;, '• System Checks and trouble shooting\\xa0', &lt;br/&gt;, '• Computer/hardware support and troubleshooting\\xa0', &lt;br/&gt;, '• Programming proficient ( Python, C/C++, MATLAB)\\xa0', &lt;br/&gt;, '• CAD (PTC Creo),\\xa0', &lt;br/&gt;, '• Mastery in Microsoft Excel, Microsoft Office, Microsoft Power Point\\xa0', &lt;br/&gt;, 'DESIGN:\\xa0', &lt;br/&gt;, '• Art composition\\x...</td>\n",
       "      <td>DATA SCIENTIST</td>\n",
       "      <td>0.004902</td>\n",
       "      <td>0.412762</td>\n",
       "      <td>0.004902</td>\n",
       "      <td>0.004902</td>\n",
       "      <td>0.004902</td>\n",
       "      <td>0.004902</td>\n",
       "      <td>0.004902</td>\n",
       "      <td>0.004902</td>\n",
       "      <td>0.004902</td>\n",
       "      <td>0.004902</td>\n",
       "      <td>0.205110</td>\n",
       "      <td>0.338010</td>\n",
       "      <td>Topic2</td>\n",
       "    </tr>\n",
       "  </tbody>\n",
       "</table>\n",
       "</div>"
      ],
      "text/plain": [
       "    id  \\\n",
       "0  1.0   \n",
       "1  2.0   \n",
       "2  3.0   \n",
       "3  4.0   \n",
       "4  5.0   \n",
       "\n",
       "                                                                                                                                                                                                                                                                                                                                                                                                            Skills  \\\n",
       "0  ['TECHNICAL SKILLS\\xa0', <br/>, '\\xa0', <br/>, '•    R                                          •   Tableau                                   •   Machine Learning\\xa0', <br/>, '•    D3.js                                      •   SQL, PostgreSQL, pgadmin 4                •   JavaScript\\xa0', <br/>, '•    Python                                     •   HTML/CSS                                  • ...   \n",
       "1                                                                                                  ['TECHNICAL SKILLS:\\xa0', <br/>, 'Languages    Java, C, C++, Python, R, Scala, SQL\\xa0', <br/>, 'Web Services    SOAP, REST\\xa0', <br/>, 'Web Technologies    HTML, CSS, JavaScript, PHP\\xa0', <br/>, 'Database    DB2, MySQL\\xa0', <br/>, 'Software    Android Studio, Eclipse, IntelliJ IDEA, NetBeans, GIT']   \n",
       "2                                                                                                                                                                                                                             ['TECHNICAL SKILLS\\xa0', <br/>, '•   Proficient: Java, Haskell, Python, R, SQL, C, C++, Matlab, Excel, VBA\\xa0', <br/>, '•   Familiar with: JMP, Tableau, ArcGIS, Weka, TensorFlow']   \n",
       "3  ['TECHNICAL SKILLS\\xa0', <br/>, 'Relevant Coursework: Artificial Intelligence, Machine Learning, Data Mining, Statistics, Multivariate and\\xa0', <br/>, 'Exploratory Data Analysis.\\xa0', <br/>, 'Big Data Technologies: Hadoop, Apache Hive, Apache Pig, Apache Spark.\\xa0', <br/>, 'Visualization Tools: Tableau, ggplot2, Sci2.\\xa0', <br/>, 'Programming Languages: Python, Java, R, SQL, C.\\xa0', <br/>...   \n",
       "4  ['SKILLS\\xa0', <br/>, '\\xa0', <br/>, 'SOFTWARE:\\xa0', <br/>, '• System Checks and trouble shooting\\xa0', <br/>, '• Computer/hardware support and troubleshooting\\xa0', <br/>, '• Programming proficient ( Python, C/C++, MATLAB)\\xa0', <br/>, '• CAD (PTC Creo),\\xa0', <br/>, '• Mastery in Microsoft Excel, Microsoft Office, Microsoft Power Point\\xa0', <br/>, 'DESIGN:\\xa0', <br/>, '• Art composition\\x...   \n",
       "\n",
       "               Job title    Topic1    Topic2    Topic3    Topic4    Topic5  \\\n",
       "0  Data Scientist Intern  0.006410  0.006410  0.006410  0.006410  0.006410   \n",
       "1  Junior Data Scientist  0.003968  0.003968  0.003968  0.003968  0.003968   \n",
       "2  Data Scientist Intern  0.005208  0.005208  0.005208  0.005208  0.005208   \n",
       "3         Data Scientist  0.002604  0.042107  0.002604  0.002604  0.002604   \n",
       "4         DATA SCIENTIST  0.004902  0.412762  0.004902  0.004902  0.004902   \n",
       "\n",
       "     Topic6    Topic7    Topic8    Topic9   Topic10   Topic11   Topic12  \\\n",
       "0  0.006410  0.736321  0.006410  0.006410  0.199575  0.006410  0.006411   \n",
       "1  0.003968  0.003968  0.003968  0.003969  0.956348  0.003968  0.003968   \n",
       "2  0.005208  0.005209  0.005208  0.005208  0.005209  0.005208  0.942708   \n",
       "3  0.002604  0.002604  0.002604  0.201023  0.245000  0.002604  0.491036   \n",
       "4  0.004902  0.004902  0.004902  0.004902  0.004902  0.205110  0.338010   \n",
       "\n",
       "  Automated_topic_id  \n",
       "0             Topic7  \n",
       "1            Topic10  \n",
       "2            Topic12  \n",
       "3            Topic12  \n",
       "4             Topic2  "
      ]
     },
     "execution_count": 48,
     "metadata": {},
     "output_type": "execute_result"
    }
   ],
   "source": [
    "data = pd.read_csv('./Topic-Modeling/data/input_data.csv',index_col='Unnamed: 0')\n",
    "data_final =pd.concat([data,doc2topic],axis=1)\n",
    "data_final.head()"
   ]
  },
  {
   "cell_type": "markdown",
   "metadata": {},
   "source": [
    "## Calculating similarities"
   ]
  },
  {
   "cell_type": "code",
   "execution_count": 36,
   "metadata": {},
   "outputs": [],
   "source": [
    "lda_index = similarities.MatrixSimilarity(lda_final[doc_term_matrix])\n",
    "similarities = lda_index[lda_final[doc_term_matrix]]\n",
    "\n",
    "def find_similar(doc_id,topn=10):\n",
    "    similar_docs =sorted(list(enumerate(similarities[doc_id])),key=lambda x: -x[1])[1:]\n",
    "    return similar_docs[:topn]"
   ]
  },
  {
   "cell_type": "code",
   "execution_count": 37,
   "metadata": {
    "scrolled": true
   },
   "outputs": [
    {
     "data": {
      "text/plain": [
       "[(10, 1.0),\n",
       " (36, 1.0),\n",
       " (48, 1.0),\n",
       " (62, 1.0),\n",
       " (76, 1.0),\n",
       " (102, 1.0),\n",
       " (117, 1.0),\n",
       " (133, 1.0),\n",
       " (149, 1.0),\n",
       " (166, 1.0)]"
      ]
     },
     "execution_count": 37,
     "metadata": {},
     "output_type": "execute_result"
    }
   ],
   "source": [
    "find_similar(10,10)"
   ]
  }
 ],
 "metadata": {
  "kernelspec": {
   "display_name": "Python 3",
   "language": "python",
   "name": "python3"
  },
  "language_info": {
   "codemirror_mode": {
    "name": "ipython",
    "version": 3
   },
   "file_extension": ".py",
   "mimetype": "text/x-python",
   "name": "python",
   "nbconvert_exporter": "python",
   "pygments_lexer": "ipython3",
   "version": "3.6.4"
  }
 },
 "nbformat": 4,
 "nbformat_minor": 2
}
