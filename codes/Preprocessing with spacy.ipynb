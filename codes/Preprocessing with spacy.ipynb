{
 "cells": [
  {
   "cell_type": "code",
   "execution_count": 1,
   "metadata": {},
   "outputs": [],
   "source": [
    "import pandas as pd\n",
    "import numpy as np\n",
    "import spacy"
   ]
  },
  {
   "cell_type": "markdown",
   "metadata": {
    "heading_collapsed": true
   },
   "source": [
    "### Preprocessing with Spacy with Examples"
   ]
  },
  {
   "cell_type": "code",
   "execution_count": 2,
   "metadata": {
    "hidden": true
   },
   "outputs": [],
   "source": [
    "data = pd.read_feather('data/preprocessed_data')\n",
    "text = data['text']"
   ]
  },
  {
   "cell_type": "code",
   "execution_count": 3,
   "metadata": {
    "hidden": true
   },
   "outputs": [],
   "source": [
    "nlp = spacy.load('en')"
   ]
  },
  {
   "cell_type": "code",
   "execution_count": 4,
   "metadata": {
    "hidden": true
   },
   "outputs": [
    {
     "data": {
      "text/plain": [
       "\"We originally wanted to eat next door, but there was a 30 minute wait so we popped over to Slice of Vegas.  Friendly staff, fun setting and really good food!  Almost forgot to check in and unlock the free garlic parm fries and that would have been a travesty because they were delicious and not something I would normally order with a pizza.  We also got the garlic bread with cheese.  The roasted garlic bulb that came with it was amazing.  The pizza was very good as well.  I'm all about the crust and it was just the right amount of thick and thin (in fact, I was eating the leftover crusts off my husbands plate).  Overall, great lunch spot.\""
      ]
     },
     "execution_count": 4,
     "metadata": {},
     "output_type": "execute_result"
    }
   ],
   "source": [
    "doc = text[0]\n",
    "doc"
   ]
  },
  {
   "cell_type": "code",
   "execution_count": 5,
   "metadata": {
    "hidden": true
   },
   "outputs": [],
   "source": [
    "doc = nlp(doc)"
   ]
  },
  {
   "cell_type": "code",
   "execution_count": 6,
   "metadata": {
    "hidden": true,
    "scrolled": true
   },
   "outputs": [
    {
     "data": {
      "text/plain": [
       "[We originally wanted to eat next door, but there was a 30 minute wait so we popped over to Slice of Vegas.  ,\n",
       " Friendly staff, fun setting and really good food!  ,\n",
       " Almost forgot to check in and unlock the free garlic parm fries and that would have been a travesty because they were delicious and not something I would normally order with a pizza.  ,\n",
       " We also got the garlic bread with cheese.  ,\n",
       " The roasted garlic bulb that came with it was amazing.  ,\n",
       " The pizza was very good as well.  ,\n",
       " I'm all about the crust,\n",
       " and it was just the right amount of thick and thin,\n",
       " (in fact, I was eating the leftover crusts off my husbands plate).  ,\n",
       " Overall, great lunch spot.]"
      ]
     },
     "execution_count": 6,
     "metadata": {},
     "output_type": "execute_result"
    }
   ],
   "source": [
    "list(doc.sents)"
   ]
  },
  {
   "cell_type": "code",
   "execution_count": 37,
   "metadata": {
    "hidden": true
   },
   "outputs": [
    {
     "data": {
      "text/plain": [
       "{We: 'PRON',\n",
       " originally: 'ADV',\n",
       " wanted: 'VERB',\n",
       " to: 'PART',\n",
       " eat: 'VERB',\n",
       " next: 'ADJ',\n",
       " door: 'NOUN',\n",
       " ,: 'PUNCT',\n",
       " but: 'CCONJ',\n",
       " there: 'ADV',\n",
       " was: 'VERB',\n",
       " a: 'DET',\n",
       " 30: 'NUM',\n",
       " minute: 'NOUN',\n",
       " wait: 'NOUN',\n",
       " so: 'ADV',\n",
       " we: 'PRON',\n",
       " popped: 'VERB',\n",
       " over: 'PART',\n",
       " to: 'ADP',\n",
       " Slice: 'PROPN',\n",
       " of: 'ADP',\n",
       " Vegas: 'PROPN',\n",
       " .: 'PUNCT',\n",
       "  : 'SPACE',\n",
       " Friendly: 'ADJ',\n",
       " staff: 'NOUN',\n",
       " ,: 'PUNCT',\n",
       " fun: 'NOUN',\n",
       " setting: 'NOUN',\n",
       " and: 'CCONJ',\n",
       " really: 'ADV',\n",
       " good: 'ADJ',\n",
       " food: 'NOUN',\n",
       " !: 'PUNCT',\n",
       "  : 'SPACE',\n",
       " Almost: 'ADV',\n",
       " forgot: 'VERB',\n",
       " to: 'PART',\n",
       " check: 'VERB',\n",
       " in: 'PART',\n",
       " and: 'CCONJ',\n",
       " unlock: 'VERB',\n",
       " the: 'DET',\n",
       " free: 'ADJ',\n",
       " garlic: 'ADJ',\n",
       " parm: 'ADJ',\n",
       " fries: 'NOUN',\n",
       " and: 'CCONJ',\n",
       " that: 'DET',\n",
       " would: 'VERB',\n",
       " have: 'VERB',\n",
       " been: 'VERB',\n",
       " a: 'DET',\n",
       " travesty: 'NOUN',\n",
       " because: 'ADP',\n",
       " they: 'PRON',\n",
       " were: 'VERB',\n",
       " delicious: 'ADJ',\n",
       " and: 'CCONJ',\n",
       " not: 'ADV',\n",
       " something: 'NOUN',\n",
       " I: 'PRON',\n",
       " would: 'VERB',\n",
       " normally: 'ADV',\n",
       " order: 'VERB',\n",
       " with: 'ADP',\n",
       " a: 'DET',\n",
       " pizza: 'NOUN',\n",
       " .: 'PUNCT',\n",
       "  : 'SPACE',\n",
       " We: 'PRON',\n",
       " also: 'ADV',\n",
       " got: 'VERB',\n",
       " the: 'DET',\n",
       " garlic: 'ADJ',\n",
       " bread: 'NOUN',\n",
       " with: 'ADP',\n",
       " cheese: 'NOUN',\n",
       " .: 'PUNCT',\n",
       "  : 'SPACE',\n",
       " The: 'DET',\n",
       " roasted: 'ADJ',\n",
       " garlic: 'ADJ',\n",
       " bulb: 'NOUN',\n",
       " that: 'ADJ',\n",
       " came: 'VERB',\n",
       " with: 'ADP',\n",
       " it: 'PRON',\n",
       " was: 'VERB',\n",
       " amazing: 'ADJ',\n",
       " .: 'PUNCT',\n",
       "  : 'SPACE',\n",
       " The: 'DET',\n",
       " pizza: 'NOUN',\n",
       " was: 'VERB',\n",
       " very: 'ADV',\n",
       " good: 'ADJ',\n",
       " as: 'ADV',\n",
       " well: 'ADV',\n",
       " .: 'PUNCT',\n",
       "  : 'SPACE',\n",
       " I: 'PRON',\n",
       " 'm: 'VERB',\n",
       " all: 'ADV',\n",
       " about: 'ADP',\n",
       " the: 'DET',\n",
       " crust: 'NOUN',\n",
       " and: 'CCONJ',\n",
       " it: 'PRON',\n",
       " was: 'VERB',\n",
       " just: 'ADV',\n",
       " the: 'DET',\n",
       " right: 'ADJ',\n",
       " amount: 'NOUN',\n",
       " of: 'ADP',\n",
       " thick: 'ADJ',\n",
       " and: 'CCONJ',\n",
       " thin: 'ADJ',\n",
       " (: 'PUNCT',\n",
       " in: 'ADP',\n",
       " fact: 'NOUN',\n",
       " ,: 'PUNCT',\n",
       " I: 'PRON',\n",
       " was: 'VERB',\n",
       " eating: 'VERB',\n",
       " the: 'DET',\n",
       " leftover: 'NOUN',\n",
       " crusts: 'VERB',\n",
       " off: 'ADP',\n",
       " my: 'ADJ',\n",
       " husbands: 'NOUN',\n",
       " plate: 'NOUN',\n",
       " ): 'PUNCT',\n",
       " .: 'PUNCT',\n",
       "  : 'SPACE',\n",
       " Overall: 'PROPN',\n",
       " ,: 'PUNCT',\n",
       " great: 'ADJ',\n",
       " lunch: 'NOUN',\n",
       " spot: 'NOUN',\n",
       " .: 'PUNCT'}"
      ]
     },
     "execution_count": 37,
     "metadata": {},
     "output_type": "execute_result"
    }
   ],
   "source": [
    "# Part of sentence identified by Spacy\n",
    "pos= {}\n",
    "for token in doc:\n",
    "    pos[token]=token.pos_\n",
    "pos"
   ]
  },
  {
   "cell_type": "code",
   "execution_count": 27,
   "metadata": {
    "hidden": true
   },
   "outputs": [
    {
     "data": {
      "text/plain": [
       "dict_keys([We, originally, wanted, to, eat, next, door, ,, but, there, was, a, 30, minute, wait, so, we, popped, over, to, Slice, of, Vegas, .,  , Friendly, staff, ,, fun, setting, and, really, good, food, !,  , Almost, forgot, to, check, in, and, unlock, the, free, garlic, parm, fries, and, that, would, have, been, a, travesty, because, they, were, delicious, and, not, something, I, would, normally, order, with, a, pizza, .,  , We, also, got, the, garlic, bread, with, cheese, .,  , The, roasted, garlic, bulb, that, came, with, it, was, amazing, .,  , The, pizza, was, very, good, as, well, .,  , I, 'm, all, about, the, crust, and, it, was, just, the, right, amount, of, thick, and, thin, (, in, fact, ,, I, was, eating, the, leftover, crusts, off, my, husbands, plate, ), .,  , Overall, ,, great, lunch, spot, .])"
      ]
     },
     "execution_count": 27,
     "metadata": {},
     "output_type": "execute_result"
    }
   ],
   "source": [
    "pos.keys()"
   ]
  },
  {
   "cell_type": "code",
   "execution_count": 36,
   "metadata": {
    "hidden": true
   },
   "outputs": [
    {
     "name": "stdout",
     "output_type": "stream",
     "text": [
      "We PRON\n",
      "we PRON\n",
      "they PRON\n",
      "I PRON\n",
      "We PRON\n",
      "it PRON\n",
      "I PRON\n",
      "it PRON\n",
      "I PRON\n"
     ]
    }
   ],
   "source": [
    "for k in pos.keys():\n",
    "    if k.pos_ =='PRON':\n",
    "        print(k,k.pos_)"
   ]
  },
  {
   "cell_type": "code",
   "execution_count": 33,
   "metadata": {
    "hidden": true
   },
   "outputs": [],
   "source": [
    "removal = ['ADV','PRON','CCONJ','PUNCT','PART','DET','ADP','SPACE']"
   ]
  },
  {
   "cell_type": "code",
   "execution_count": 39,
   "metadata": {
    "hidden": true
   },
   "outputs": [
    {
     "name": "stdout",
     "output_type": "stream",
     "text": [
      "We\n",
      "next door\n",
      "a 30 minute\n",
      "we\n",
      "Slice\n",
      "Vegas\n",
      "Friendly staff\n",
      "fun setting\n",
      "really good food\n",
      "the free garlic parm fries\n",
      "a travesty\n",
      "they\n",
      "I\n",
      "a pizza\n",
      "We\n",
      "the garlic bread\n",
      "cheese\n",
      "The roasted garlic bulb\n",
      "it\n",
      "The pizza\n",
      "I\n",
      "the crust\n",
      "it\n",
      "just the right amount\n",
      "fact\n",
      "I\n",
      "my husbands plate\n",
      "Overall, great lunch spot\n"
     ]
    }
   ],
   "source": [
    "for np in doc.noun_chunks: # The noun chuncks identified by Spacy\n",
    "    print(np)"
   ]
  },
  {
   "cell_type": "markdown",
   "metadata": {},
   "source": [
    "### Final code "
   ]
  },
  {
   "cell_type": "markdown",
   "metadata": {},
   "source": [
    "Here we are doing Part Of Sentence tagging and removal of all the words that are not important."
   ]
  },
  {
   "cell_type": "code",
   "execution_count": 16,
   "metadata": {},
   "outputs": [],
   "source": [
    "# Summary of preprocessing with Spacy\n",
    "data = pd.read_feather('data/preprocessed_data')\n",
    "\n",
    "nlp = spacy.load('en')\n",
    "\n",
    "def clean_up_spacy(text):\n",
    "    removal= ['ADV','PRON','CCONJ','PUNCT','PART','DET','ADP','SPACE']\n",
    "    text_out = []\n",
    "    doc= nlp(text)\n",
    "    for token in doc:\n",
    "        if token.is_stop == False and token.is_alpha and len(token)>2 and token.pos_ not in removal1:\n",
    "            lemma = token.lemma_\n",
    "            text_out.append(lemma)\n",
    "    return text_out"
   ]
  }
 ],
 "metadata": {
  "kernelspec": {
   "display_name": "Python 3",
   "language": "python",
   "name": "python3"
  },
  "language_info": {
   "codemirror_mode": {
    "name": "ipython",
    "version": 3
   },
   "file_extension": ".py",
   "mimetype": "text/x-python",
   "name": "python",
   "nbconvert_exporter": "python",
   "pygments_lexer": "ipython3",
   "version": "3.6.3"
  }
 },
 "nbformat": 4,
 "nbformat_minor": 2
}
